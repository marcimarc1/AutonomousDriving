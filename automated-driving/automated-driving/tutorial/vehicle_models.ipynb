{
 "cells": [
  {
   "cell_type": "code",
   "execution_count": null,
   "metadata": {
    "collapsed": true
   },
   "outputs": [],
   "source": [
    "import matplotlib.pyplot as plt\n",
    "import numpy as np\n",
    "from fvks.planning.vehicle_models import VehicleModelFactory\n",
    "from fvks.scenario.trajectory import StateTupleFactory\n",
    "from fvks.visualization.draw_dispatch import draw_object\n",
    "\n",
    "\n",
    "initial_state_tuple_core = StateTupleFactory.create_state_tuple(StateTupleFactory.position,\n",
    "                                                                StateTupleFactory.orientation,\n",
    "                                                                StateTupleFactory.velocity,\n",
    "                                                                StateTupleFactory.yawRate,\n",
    "                                                                StateTupleFactory.slipAngle,\n",
    "                                                                StateTupleFactory.time)\n",
    "\n",
    "initial_state = initial_state_tuple_core(np.array([0.0, 0.0]), 0.0, 15.0, 0.0, 0.0, 0)\n",
    "model = VehicleModelFactory.create('MB', 1)\n",
    "\n",
    "# steering angle velocity [m/s] and acceleration [m/s^2] for each time step\n",
    "input = np.array(((0.3, 3.0),   # time step 1\n",
    "                  (0.3, 3.0),   # time step 2\n",
    "                  (0.3, 3.0),   # time step 3\n",
    "                  (0.3, 3.0),   # time step 4\n",
    "                  (0.3, 0.0),   # time step 5\n",
    "                  (-0.4, 0.0),   # time step 6\n",
    "                  (-0.4, 0.0),   # time step 7\n",
    "                  (-0.4, 0.0),   # time step 8\n",
    "                  (0.0, 0.0),   # time step 9\n",
    "                  (0.0, 0.0)))  # time step 10\n",
    "\n",
    "\n",
    "# initial time using time step discretization of scenario (integer value) \n",
    "t0 = 0\n",
    "# time discretization for trajectory integration\n",
    "dt = 0.1\n",
    "\n",
    "# get full initial state of vehicle model\n",
    "full_initial_state = model.initialize(initial_state)\n",
    "trajectory, collision_object, constraints_fulfilled = model.forward_simulation(full_initial_state, t0, input, dt)\n",
    "\n",
    "print('Are all constraints fulfilled: ', constraints_fulfilled)\n",
    "\n",
    "plt.figure(figsize=(10, 10))\n",
    "draw_object(collision_object)\n",
    "plt.ylim([-5, 10])\n",
    "plt.xlim([-5, 20])\n",
    "plt.gca().set_aspect('equal')\n",
    "plt.show()\n"
   ]
  },
  {
   "cell_type": "code",
   "execution_count": null,
   "metadata": {
    "collapsed": true
   },
   "outputs": [],
   "source": []
  },
  {
   "cell_type": "code",
   "execution_count": null,
   "metadata": {
    "collapsed": true
   },
   "outputs": [],
   "source": []
  }
 ],
 "metadata": {
  "kernelspec": {
   "display_name": "Python 3",
   "language": "python",
   "name": "python3"
  },
  "language_info": {
   "codemirror_mode": {
    "name": "ipython",
    "version": 3
   },
   "file_extension": ".py",
   "mimetype": "text/x-python",
   "name": "python",
   "nbconvert_exporter": "python",
   "pygments_lexer": "ipython3",
   "version": "3.5.4"
  }
 },
 "nbformat": 4,
 "nbformat_minor": 1
}
