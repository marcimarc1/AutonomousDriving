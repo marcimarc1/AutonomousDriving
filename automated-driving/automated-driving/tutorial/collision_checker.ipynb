{
 "cells": [
  {
   "cell_type": "code",
   "execution_count": null,
   "metadata": {
    "collapsed": true
   },
   "outputs": [],
   "source": [
    "# Collision Checks\n",
    "import matplotlib.pyplot as plt\n",
    "import pyfvks\n",
    "from fvks.visualization.draw_dispatch import draw_object\n",
    "\n",
    "# --------------------- Collision check between basic shapes ------------------------#\n",
    "\n",
    "# Oriented rectangle with width/2, height/2, orientation, x-position , y-position\n",
    "obb = pyfvks.collision.RectOBB(1, 2, 0.3, 8, 10)\n",
    "\n",
    "# Axis-aligned rectangle with width/2, height/2, x-position , y-position\n",
    "aabb = pyfvks.collision.RectAABB(2, 3, 3, 2)\n",
    "\n",
    "# Circle with radius, x-position , y-position\n",
    "circ = pyfvks.collision.Circle(2.5, 6, 7)\n",
    "\n",
    "print('Collision between OBB and AABB: ', obb.collide(aabb))\n",
    "print('Collision between AABB and Circle: ', aabb.collide(circ))\n",
    "print('Collision between Circle and OBB:  ', circ.collide(obb))\n",
    "\n",
    "plt.figure(figsize=(10, 10))\n",
    "\n",
    "draw_object([obb, aabb, circ])\n",
    "# set plotting region\n",
    "plt.axes().set_aspect('equal')\n",
    "plt.ylim([-5, 20])\n",
    "plt.xlim([-5, 20])\n",
    "plt.show()\n"
   ]
  },
  {
   "cell_type": "code",
   "execution_count": null,
   "metadata": {
    "collapsed": true
   },
   "outputs": [],
   "source": [
    "# --------------------- Collision check using shapegroups ----------------------------#\n",
    "\n",
    "sg = pyfvks.collision.ShapeGroup()\n",
    "sg.add_shape(obb)\n",
    "sg.add_shape(aabb)\n",
    "\n",
    "print('Collision between Circle and Shapegroup: ', circ.collide(sg))\n",
    "\n",
    "plt.figure(figsize=(10, 10))\n",
    "\n",
    "draw_object([sg, circ])\n",
    "plt.axes().set_aspect('equal')\n",
    "plt.ylim([-5, 20])\n",
    "plt.xlim([-5, 20])\n",
    "plt.show()\n"
   ]
  },
  {
   "cell_type": "code",
   "execution_count": null,
   "metadata": {
    "collapsed": true
   },
   "outputs": [],
   "source": [
    "\n",
    "# ----------------- Collision checks between time varying obstacles ------------------#\n",
    "\n",
    "tvo1 = pyfvks.collision.TimeVariantCollisionObject(1)\n",
    "tvo1.append_obstacle(pyfvks.collision.RectOBB(2, 1, 0.0, 2.0, 5)) # time step 1\n",
    "tvo1.append_obstacle(pyfvks.collision.RectOBB(2, 1, 0.0, 2.5, 5)) # time step 2\n",
    "tvo1.append_obstacle(pyfvks.collision.RectOBB(2, 1, 0.0, 3, 5))   # time step 3\n",
    "tvo1.append_obstacle(pyfvks.collision.RectOBB(2, 1, 0.0, 3.5, 5)) # time step 4\n",
    "tvo1.append_obstacle(pyfvks.collision.RectOBB(2, 1, 0.0, 4, 5))   # time step 5\n",
    "tvo1.append_obstacle(pyfvks.collision.RectOBB(2, 1, 0.0, 4.5, 5)) # time step 6\n",
    "tvo1.append_obstacle(pyfvks.collision.RectOBB(2, 1, 0.0, 5, 5))   # time step 7\n",
    "tvo1.append_obstacle(pyfvks.collision.RectOBB(2, 1, 0.0, 5.5, 5)) # time step 8\n",
    "\n",
    "# Time variant obstacle that starts at time 4\n",
    "tvo2 = pyfvks.collision.TimeVariantCollisionObject(4)\n",
    "tvo2.append_obstacle(pyfvks.collision.RectOBB(2, 1, 1.5, 6.0, 0)) # time step 4\n",
    "tvo2.append_obstacle(pyfvks.collision.RectOBB(2, 1, 1.5, 6.0, 2)) # time step 5\n",
    "tvo2.append_obstacle(pyfvks.collision.RectOBB(2, 1, 1.5, 6.0, 3)) # time step 6\n",
    "tvo2.append_obstacle(pyfvks.collision.RectOBB(2, 1, 1.5, 6.0, 4)) # time step 7\n",
    "tvo2.append_obstacle(pyfvks.collision.RectOBB(2, 1, 1.5, 6.0, 5)) # time step 8\n",
    "tvo2.append_obstacle(pyfvks.collision.RectOBB(2, 1, 1.5, 6.0, 6)) # time step 9\n",
    "tvo2.append_obstacle(pyfvks.collision.RectOBB(2, 1, 1.5, 6.0, 7)) # time step 10\n",
    "\n",
    "print('Collision between time-varying obstacle tvo1 and tvo2: ', tvo1.collide(tvo2))\n",
    "\n",
    "plt.figure(figsize=(10, 10))\n",
    "\n",
    "draw_object([tvo1, tvo2])\n",
    "plt.axes().set_aspect('equal')\n",
    "plt.ylim([-5, 20])\n",
    "plt.xlim([-5, 20])\n",
    "plt.show()\n"
   ]
  },
  {
   "cell_type": "code",
   "execution_count": null,
   "metadata": {
    "collapsed": true
   },
   "outputs": [],
   "source": [
    "cc = pyfvks.collision.CollisionChecker()\n",
    "cc.add_collision_object(tvo1)\n",
    "cc.add_collision_object(pyfvks.collision.RectOBB(2, 1, 1.5, 6.0, 0))\n",
    "print('Collision with trajectory: ', cc.collide(tvo1))"
   ]
  },
  {
   "cell_type": "code",
   "execution_count": null,
   "metadata": {},
   "outputs": [],
   "source": [
    "# ----------------------- Collision checker from scenario ----------------------------#\n",
    "import os\n",
    "import numpy as np\n",
    "\n",
    "from fvks.scenario.commonroad.file_reader import CommonRoadFileReader\n",
    "\n",
    "filename = '/commonroad/scenarios/NGSIM/Lankershim/NGSIM_Lanker_1.xml'\n",
    "scenario = CommonRoadFileReader(os.getcwd() + filename).open_scenario()\n",
    "\n",
    "cc = scenario.create_collision_checker()\n",
    "rect = pyfvks.collision.RectOBB(5.0, 5.0, 1.5, 2.0, 10)\n",
    "\n",
    "print('Collision between scenario and rectangle: ', cc.collide(rect))\n",
    "\n",
    "plt.figure(figsize=(10, 10))\n",
    "draw_object(scenario)\n",
    "draw_object(cc)\n",
    "draw_object(rect)\n",
    "plt.show()"
   ]
  },
  {
   "cell_type": "code",
   "execution_count": null,
   "metadata": {},
   "outputs": [],
   "source": [
    "from fvks.scenario.trajectory import Trajectory, collision_object_from_trajectory\n",
    "from fvks.scenario.scenario import SimulatedCar\n",
    "\n",
    "position = np.array([[0, 0], [5, 0], [10, 0], [15, 2], [18, 8]])\n",
    "orientation = np.array([0, 0.2, 0.5, 0.8, 1.4])\n",
    "# starting at time 17 with length 4.8 and width 1.8\n",
    "trajectory = Trajectory.create_from_vertices(position, 0, orientation) \n",
    "trajectory_collision_object = collision_object_from_trajectory(trajectory,\n",
    "                                                               CAR_LENGTH=4.0, CAR_WIDTH=1.8)\n",
    "\n",
    "car = SimulatedCar(trajectory, scenario.dt, car_id=1000, length=4.0, width=1.8)\n",
    "car_collision_object = car.create_collision_object()\n",
    "\n",
    "rect = pyfvks.collision.RectOBB(5.0, 5.0, 1.5, 2.0, 10)\n",
    "print('Collision between trajectory and rectangle: ', trajectory_collision_object.collide(rect))\n",
    "print('Collision between car and rectangle: ', car_collision_object.collide(rect))\n",
    "\n",
    "plt.figure(figsize=(10, 10))\n",
    "\n",
    "plt.ylim([-5, 20])\n",
    "plt.xlim([-5, 20])\n",
    "draw_object([rect, trajectory_collision_object])\n",
    "plt.show()\n"
   ]
  },
  {
   "cell_type": "code",
   "execution_count": null,
   "metadata": {
    "collapsed": true
   },
   "outputs": [],
   "source": []
  }
 ],
 "metadata": {
  "kernelspec": {
   "display_name": "Python 3",
   "language": "python",
   "name": "python3"
  },
  "language_info": {
   "codemirror_mode": {
    "name": "ipython",
    "version": 3
   },
   "file_extension": ".py",
   "mimetype": "text/x-python",
   "name": "python",
   "nbconvert_exporter": "python",
   "pygments_lexer": "ipython3",
   "version": "3.5.4"
  }
 },
 "nbformat": 4,
 "nbformat_minor": 1
}
