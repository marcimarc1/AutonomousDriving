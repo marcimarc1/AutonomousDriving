{
 "cells": [
  {
   "cell_type": "code",
   "execution_count": 1,
   "metadata": {
    "collapsed": false
   },
   "outputs": [
    {
     "ename": "ModuleNotFoundError",
     "evalue": "No module named 'pyfvks'",
     "output_type": "error",
     "traceback": [
      "\u001b[0;31m---------------------------------------------------------------------------\u001b[0m",
      "\u001b[0;31mModuleNotFoundError\u001b[0m                       Traceback (most recent call last)",
      "\u001b[0;32m<ipython-input-1-9dc3fdbe76cf>\u001b[0m in \u001b[0;36m<module>\u001b[0;34m()\u001b[0m\n\u001b[1;32m      4\u001b[0m \u001b[0;34m\u001b[0m\u001b[0m\n\u001b[1;32m      5\u001b[0m \u001b[0;32mfrom\u001b[0m \u001b[0mfvks\u001b[0m\u001b[0;34m.\u001b[0m\u001b[0mvisualization\u001b[0m\u001b[0;34m.\u001b[0m\u001b[0mdraw_dispatch\u001b[0m \u001b[0;32mimport\u001b[0m \u001b[0mdraw_object\u001b[0m\u001b[0;34m\u001b[0m\u001b[0m\n\u001b[0;32m----> 6\u001b[0;31m \u001b[0;32mfrom\u001b[0m \u001b[0mfvks\u001b[0m\u001b[0;34m.\u001b[0m\u001b[0mscenario\u001b[0m\u001b[0;34m.\u001b[0m\u001b[0mcommonroad\u001b[0m\u001b[0;34m.\u001b[0m\u001b[0mfile_reader\u001b[0m \u001b[0;32mimport\u001b[0m \u001b[0mCommonRoadFileReader\u001b[0m\u001b[0;34m\u001b[0m\u001b[0m\n\u001b[0m\u001b[1;32m      7\u001b[0m \u001b[0;34m\u001b[0m\u001b[0m\n\u001b[1;32m      8\u001b[0m \u001b[0mfilename\u001b[0m \u001b[0;34m=\u001b[0m \u001b[0mos\u001b[0m\u001b[0;34m.\u001b[0m\u001b[0mgetcwd\u001b[0m\u001b[0;34m(\u001b[0m\u001b[0;34m)\u001b[0m \u001b[0;34m+\u001b[0m \u001b[0;34m'/automated-driving/tutorial/tutorial_rrt.xml'\u001b[0m\u001b[0;34m\u001b[0m\u001b[0m\n",
      "\u001b[0;32m/home/marc/Desktop/AutonomousProject/automated-driving/automated-driving/python/fvks/scenario/__init__.py\u001b[0m in \u001b[0;36m<module>\u001b[0;34m()\u001b[0m\n\u001b[1;32m      1\u001b[0m \u001b[0;32mfrom\u001b[0m \u001b[0;34m.\u001b[0m\u001b[0mscenario_exception\u001b[0m \u001b[0;32mimport\u001b[0m \u001b[0mScenarioError\u001b[0m\u001b[0;34m\u001b[0m\u001b[0m\n\u001b[1;32m      2\u001b[0m \u001b[0;32mfrom\u001b[0m \u001b[0;34m.\u001b[0m\u001b[0mlanelet\u001b[0m \u001b[0;32mimport\u001b[0m \u001b[0mLanelet\u001b[0m\u001b[0;34m\u001b[0m\u001b[0m\n\u001b[0;32m----> 3\u001b[0;31m \u001b[0;32mfrom\u001b[0m \u001b[0;34m.\u001b[0m\u001b[0mtrajectory\u001b[0m \u001b[0;32mimport\u001b[0m \u001b[0mTrajectory\u001b[0m\u001b[0;34m\u001b[0m\u001b[0m\n\u001b[0m\u001b[1;32m      4\u001b[0m \u001b[0;32mfrom\u001b[0m \u001b[0;34m.\u001b[0m\u001b[0mtraffic\u001b[0m \u001b[0;32mimport\u001b[0m \u001b[0mSimulatedCar\u001b[0m\u001b[0;34m\u001b[0m\u001b[0m\n\u001b[1;32m      5\u001b[0m \u001b[0;32mfrom\u001b[0m \u001b[0;34m.\u001b[0m\u001b[0mscenario\u001b[0m \u001b[0;32mimport\u001b[0m \u001b[0mScenario\u001b[0m\u001b[0;34m\u001b[0m\u001b[0m\n",
      "\u001b[0;32m/home/marc/Desktop/AutonomousProject/automated-driving/automated-driving/python/fvks/scenario/trajectory.py\u001b[0m in \u001b[0;36m<module>\u001b[0;34m()\u001b[0m\n\u001b[1;32m      2\u001b[0m \u001b[0;32mfrom\u001b[0m \u001b[0mcollections\u001b[0m \u001b[0;32mimport\u001b[0m \u001b[0mnamedtuple\u001b[0m\u001b[0;34m\u001b[0m\u001b[0m\n\u001b[1;32m      3\u001b[0m \u001b[0;34m\u001b[0m\u001b[0m\n\u001b[0;32m----> 4\u001b[0;31m \u001b[0;32mimport\u001b[0m \u001b[0mpyfvks\u001b[0m\u001b[0;34m\u001b[0m\u001b[0m\n\u001b[0m\u001b[1;32m      5\u001b[0m \u001b[0;32mimport\u001b[0m \u001b[0mfvks\u001b[0m\u001b[0;34m.\u001b[0m\u001b[0mgeometry\u001b[0m\u001b[0;34m.\u001b[0m\u001b[0mpolyline\u001b[0m\u001b[0;34m\u001b[0m\u001b[0m\n\u001b[1;32m      6\u001b[0m \u001b[0;32mimport\u001b[0m \u001b[0mfvks\u001b[0m\u001b[0;34m.\u001b[0m\u001b[0mgeometry\u001b[0m\u001b[0;34m.\u001b[0m\u001b[0mtransform\u001b[0m\u001b[0;34m\u001b[0m\u001b[0m\n",
      "\u001b[0;31mModuleNotFoundError\u001b[0m: No module named 'pyfvks'"
     ]
    }
   ],
   "source": [
    "# Open a CommonRoad scenario + planning task\n",
    "import os\n",
    "import matplotlib.pyplot as plt\n",
    "\n",
    "from fvks.visualization.draw_dispatch import draw_object\n",
    "from fvks.scenario.commonroad.file_reader import CommonRoadFileReader\n",
    "\n",
    "filename = os.getcwd() + '/automated-driving/tutorial/tutorial_rrt.xml'\n",
    "\n",
    "scenario, planning_task = CommonRoadFileReader(filename).open()\n",
    "\n",
    "plt.figure(figsize=(25, 10))\n",
    "draw_object(scenario)\n",
    "draw_object(planning_task)\n",
    "plt.gca().set_aspect('equal')\n",
    "plt.show()"
   ]
  },
  {
   "cell_type": "code",
   "execution_count": null,
   "metadata": {
    "collapsed": true
   },
   "outputs": [],
   "source": [
    "# Add another planning problem\n",
    "import pyfvks\n",
    "import numpy as np\n",
    "from fvks.planning.planning import PlanningProblem\n",
    "from fvks.scenario.trajectory import StateTupleFactory\n",
    "from fvks.scenario.commonroad.util import UncertainIntervalScalar\n",
    "\n",
    "# Create state tuple for the initial state according to CommonRoad\n",
    "initial_state_tuple = StateTupleFactory.create_state_tuple(StateTupleFactory.position,\n",
    "                                                           StateTupleFactory.orientation,\n",
    "                                                           StateTupleFactory.velocity,\n",
    "                                                           StateTupleFactory.yawRate,\n",
    "                                                           StateTupleFactory.slipAngle,\n",
    "                                                           StateTupleFactory.time)\n",
    "\n",
    "# ------------- Create the initial state of the new planning problem using the specified values  -------------\n",
    "initial_state = initial_state_tuple(np.array((12.0, 40.0)),\n",
    "                                    0.1,\n",
    "                                    9.0,\n",
    "                                    0.0,\n",
    "                                    0.0,\n",
    "                                    1.0/scenario.dt)\n",
    "# ------------- Create the state tuple for the goal states  -------------\n",
    "goal_state_tuple = StateTupleFactory.create_state_tuple(StateTupleFactory.position,\n",
    "                                                        StateTupleFactory.orientation,\n",
    "                                                        StateTupleFactory.time)\n",
    "goal_state_list = list()\n",
    "# ------------- Create the define goal states -------------\n",
    "goal_state_1 = goal_state_tuple(pyfvks.collision.RectOBB(4.0, 3.5, 0.0, 50.0, 22.0),\n",
    "                                UncertainIntervalScalar(-2.0, -1.0),\n",
    "                                UncertainIntervalScalar(0.0/scenario.dt, 10.0/scenario.dt))\n",
    "goal_state_list.append(goal_state_1)\n",
    "\n",
    "goal_state_2 = goal_state_tuple(pyfvks.collision.Circle(2.0, 56.0, 25.0),\n",
    "                                UncertainIntervalScalar(-2.0, -1.0),\n",
    "                                UncertainIntervalScalar(0.0/scenario.dt, 10.0/scenario.dt))\n",
    "goal_state_list.append(goal_state_2)\n",
    "\n",
    "# ------------- Create the new planning problem -------------\n",
    "new_planning_problem = PlanningProblem(planning_problem_id=9, \n",
    "                                       initial_state=initial_state, \n",
    "                                       goal_states=goal_state_list)\n",
    "\n",
    "\n",
    "# Add new planning problem to the planning task\n",
    "planning_task.add_planning_problem(new_planning_problem)\n",
    "\n",
    "# Plot the new scenario\n",
    "plt.figure(figsize=(25, 10))\n",
    "draw_object(scenario)\n",
    "draw_object(planning_task)\n",
    "plt.gca().set_aspect('equal')\n",
    "plt.show()"
   ]
  },
  {
   "cell_type": "code",
   "execution_count": null,
   "metadata": {
    "collapsed": true
   },
   "outputs": [],
   "source": [
    "# Add a dynamic obstacle\n",
    "from fvks.scenario.trajectory import Trajectory\n",
    "from fvks.scenario.traffic import SimulatedCar\n",
    "\n",
    "position = np.array([[10, 50], [11, 50], [12, 50], [13, 50], [14, 50],\n",
    "                     [15, 50], [16, 50], [17, 50], [18, 50], [19, 50]])\n",
    "\n",
    "# ------------- Create trajectory from the position coordinates starting at time 0 -------------\n",
    "trajectory = Trajectory.create_from_vertices(position, 0) \n",
    "\n",
    "# ------------- Create a car with id 10, length 4.5, and width 2.0 which acts like a dynamic obstacle -------------\n",
    "car = SimulatedCar(trajectory, scenario.dt, car_id=10,\n",
    "                    length=4.5,\n",
    "                    width=2.0)\n",
    "\n",
    "# Add the car to the scenario and set time of scenario\n",
    "scenario.add_objects(car)\n",
    "scenario.set_time(0)\n",
    "\n",
    "# Plot the new scenario\n",
    "plt.figure(figsize=(25, 10))\n",
    "draw_object(scenario)\n",
    "draw_object(planning_task)\n",
    "plt.gca().set_aspect('equal')\n",
    "plt.show()\n"
   ]
  },
  {
   "cell_type": "code",
   "execution_count": null,
   "metadata": {
    "collapsed": true
   },
   "outputs": [],
   "source": [
    "# Store the new scenario\n",
    "from fvks.scenario.commonroad.file_writer import CommonRoadFileWriter\n",
    "\n",
    "# ------------- Change benchmark ID from the scenario -------------\n",
    "scenario.benchmark_id = 'commonroad_tutorial_ws1718'\n",
    "\n",
    "# ------------- Store the scenario using the CommonRoadFileWriter -------------\n",
    "fw = CommonRoadFileWriter(scenario, planning_task)\n",
    "\n",
    "filename = '/automated-driving/tutorial/commonroad_tutorial_ws1718.xml'\n",
    "fw.write_to_file(os.getcwd() + filename)"
   ]
  },
  {
   "cell_type": "code",
   "execution_count": null,
   "metadata": {
    "collapsed": true
   },
   "outputs": [],
   "source": []
  }
 ],
 "metadata": {
  "kernelspec": {
   "display_name": "Python 3",
   "language": "python",
   "name": "python3"
  },
  "language_info": {
   "codemirror_mode": {
    "name": "ipython",
    "version": 3
   },
   "file_extension": ".py",
   "mimetype": "text/x-python",
   "name": "python",
   "nbconvert_exporter": "python",
   "pygments_lexer": "ipython3",
   "version": "3.6.3"
  }
 },
 "nbformat": 4,
 "nbformat_minor": 1
}
