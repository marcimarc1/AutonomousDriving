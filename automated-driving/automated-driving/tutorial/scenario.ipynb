{
 "cells": [
  {
   "cell_type": "code",
   "execution_count": null,
   "metadata": {
    "collapsed": true
   },
   "outputs": [],
   "source": [
    "# Open a CommonRoad scenario + planning task\n",
    "import os\n",
    "import matplotlib.pyplot as plt\n",
    "\n",
    "from fvks.visualization.draw_dispatch import draw_object\n",
    "from fvks.scenario.commonroad.file_reader import CommonRoadFileReader\n",
    "\n",
    "filename = '/commonroad/scenarios/NGSIM/Lankershim/NGSIM_Lanker_1.xml'\n",
    "\n",
    "scenario = CommonRoadFileReader(os.getcwd() + filename).open_scenario()\n",
    "\n",
    "plt.figure(figsize=(25, 10))\n",
    "draw_object(scenario)\n",
    "plt.gca().set_aspect('equal')\n",
    "plt.show()\n"
   ]
  },
  {
   "cell_type": "code",
   "execution_count": null,
   "metadata": {
    "collapsed": true
   },
   "outputs": [],
   "source": [
    "\n",
    "# Set the current time of the scenario, e.g. time index 30, and plot it\n",
    "scenario.set_time(30)\n",
    "\n",
    "plt.figure(figsize=(25, 10))\n",
    "draw_object(scenario)\n",
    "plt.gca().set_aspect('equal')\n",
    "plt.show()\n"
   ]
  },
  {
   "cell_type": "code",
   "execution_count": null,
   "metadata": {
    "collapsed": true
   },
   "outputs": [],
   "source": [
    "scenario, planning_task = CommonRoadFileReader(os.getcwd() + filename).open()\n",
    "\n",
    "plt.figure(figsize=(25, 10))\n",
    "draw_object(scenario)\n",
    "draw_object(planning_task)\n",
    "plt.gca().set_aspect('equal')\n",
    "plt.show()\n",
    "\n"
   ]
  },
  {
   "cell_type": "code",
   "execution_count": null,
   "metadata": {
    "collapsed": true
   },
   "outputs": [],
   "source": [
    "# Create a state tuple\n",
    "import numpy as np\n",
    "from fvks.scenario.trajectory import StateTupleFactory\n",
    "\n",
    "state_tuple = StateTupleFactory.create_state_tuple(StateTupleFactory.position, \n",
    "                                                   StateTupleFactory.orientation, StateTupleFactory.velocity)\n",
    "# create state with position (1.0, 2.0), orientation 0.0 rad, and velocity 3.6 m/s\n",
    "state = state_tuple(np.array([1.0, 2.0]), 0.0, 3.6)\n",
    "\n",
    "print(state)"
   ]
  },
  {
   "cell_type": "code",
   "execution_count": null,
   "metadata": {
    "collapsed": true
   },
   "outputs": [],
   "source": [
    "from fvks.scenario.trajectory import Trajectory\n",
    "\n",
    "# create list of states\n",
    "state_list = list()\n",
    "state_list.append(state_tuple(np.array([1.0, 2.0]), 0.0, 3.0))\n",
    "state_list.append(state_tuple(np.array([4.0, 2.0]), 0.0, 3.0))\n",
    "state_list.append(state_tuple(np.array([7.0, 2.0]), 0.0, 3.0))\n",
    "\n",
    "trajectory = Trajectory(t0=2, state_list=state_list, state_tuple=state_tuple)\n",
    "print(trajectory.state_list)\n"
   ]
  },
  {
   "cell_type": "code",
   "execution_count": null,
   "metadata": {
    "collapsed": true
   },
   "outputs": [],
   "source": [
    "position = np.array([[0, 0], [5, 0], [10, 0], [15, 2], [18, 8]])\n",
    "orientation = np.array([0, 0.2, 0.5, 0.8, 1.4])\n",
    "# starting at time 17 with length 4.8 and width 1.8\n",
    "trajectory = Trajectory.create_from_vertices(position, 17, orientation) \n",
    "print(trajectory.state_list)"
   ]
  },
  {
   "cell_type": "code",
   "execution_count": null,
   "metadata": {
    "collapsed": true
   },
   "outputs": [],
   "source": [
    "from fvks.scenario.traffic import SimulatedCar\n",
    "\n",
    "car = SimulatedCar(trajectory, scenario.dt, car_id=1000, length=4.0, width=1.8)\n",
    "# set current time of car\n",
    "car.update_time(17)\n",
    "\n",
    "plt.figure(figsize=(25, 10))\n",
    "draw_object(car)\n",
    "plt.xlim(-5, 20)\n",
    "plt.ylim(-5, 5)\n",
    "plt.show()"
   ]
  },
  {
   "cell_type": "code",
   "execution_count": null,
   "metadata": {
    "collapsed": true
   },
   "outputs": [],
   "source": []
  }
 ],
 "metadata": {
  "kernelspec": {
   "display_name": "Python 3",
   "language": "python",
   "name": "python3"
  },
  "language_info": {
   "codemirror_mode": {
    "name": "ipython",
    "version": 3
   },
   "file_extension": ".py",
   "mimetype": "text/x-python",
   "name": "python",
   "nbconvert_exporter": "python",
   "pygments_lexer": "ipython3",
   "version": "3.5.4"
  }
 },
 "nbformat": 4,
 "nbformat_minor": 1
}
