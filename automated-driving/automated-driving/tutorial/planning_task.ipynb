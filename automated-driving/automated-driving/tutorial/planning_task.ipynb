{
 "cells": [
  {
   "cell_type": "code",
   "execution_count": null,
   "metadata": {
    "collapsed": true
   },
   "outputs": [],
   "source": [
    "import os\n",
    "import matplotlib.pyplot as plt\n",
    "\n",
    "from fvks.visualization.draw_dispatch import draw_object\n",
    "from fvks.scenario.commonroad.file_reader import CommonRoadFileReader\n",
    "\n",
    "scenario, planning_task = CommonRoadFileReader(\n",
    "    os.getcwd() + '/automated-driving/tutorial/tutorial_rrt.xml').open()\n",
    "\n",
    "plt.figure(figsize=(25, 10))\n",
    "draw_object(scenario)\n",
    "draw_object(planning_task)\n",
    "plt.gca().set_aspect('equal')\n",
    "plt.show()\n",
    "\n"
   ]
  },
  {
   "cell_type": "code",
   "execution_count": null,
   "metadata": {
    "collapsed": true
   },
   "outputs": [],
   "source": [
    "from fvks.scenario.trajectory import Trajectory\n",
    "\n",
    "from numpy import array\n",
    "\n",
    "# usually you run your motion planner to get an trajectory\n",
    "position = [array([ 50.,  50.]), array([ 49.98990815,  49.11967736]), array([ 49.97241451,  48.27871849]), \n",
    "            array([ 49.94419787,  47.47731465]), array([ 49.90291706,  46.71577314]), \n",
    "            array([ 49.84709855,  45.99451099]), array([ 49.77613108,  45.31402282]), \n",
    "            array([ 49.69019157,  44.67483478]), array([ 49.59015505,  44.07745151]), \n",
    "            array([ 49.47750151,  43.5223021 ]), array([ 49.35438563,  43.00160639]), \n",
    "            array([ 49.22524011,  42.50673707]), array([ 49.09267346,  42.03726405]), \n",
    "            array([ 48.958711  ,  41.59279572]), array([ 48.82513418,  41.17292758]), \n",
    "            array([ 48.69350298,  40.77725833]), array([ 48.56517215,  40.40540351]), \n",
    "            array([ 48.44130669,  40.05700555]), array([ 48.32289687,  39.731741  ]), \n",
    "            array([ 48.20180847,  39.40795189]), array([ 48.06831766,  39.0645952 ]), \n",
    "            array([ 47.92133765,  38.70216841]), array([ 47.7597186 ,  38.32123671]), \n",
    "            array([ 47.58219922,  37.92246291]), array([ 47.38740559,  37.506622  ]), \n",
    "            array([ 47.17385187,  37.07461731]), array([ 46.93994282,  36.62749853]), \n",
    "            array([ 46.68397883,  36.16648145]), array([ 46.41080424,  35.69689814]), \n",
    "            array([ 46.1308302 ,  35.22065752]), array([ 45.84744703,  34.7357788 ]), \n",
    "            array([ 45.56388537,  34.24040516]), array([ 45.28368204,  33.73262292]), \n",
    "            array([ 45.01073421,  33.21053504]), array([ 44.74934878,  32.67235475]), \n",
    "            array([ 44.50428898,  32.11651837]), array([ 44.28081335,  31.5418199 ]), \n",
    "            array([ 44.07345804,  30.93763234]), array([ 43.86559479,  30.29664585]), \n",
    "            array([ 43.6524302 ,  29.62054669]), array([ 43.42917554,  28.91087162]), \n",
    "            array([ 43.18974436,  28.16956402]), array([ 42.92666149,  27.39918682]), \n",
    "            array([ 42.63105645,  26.60320831]), array([ 42.29272028,  25.78638662]), \n",
    "            array([ 41.90025562,  24.95525979]), array([ 41.45275007,  24.13435029]), \n",
    "            array([ 40.95989065,  23.34379524]), array([ 40.42223116,  22.58712133]), \n",
    "            array([ 39.84072647,  21.86791557]), array([ 39.21686243,  21.18968769]), \n",
    "            array([ 38.55251198,  20.55592492]), array([ 37.84991707,  19.97007764]), \n",
    "            array([ 37.11169353,  19.43552641]), array([ 36.34083647,  18.95554381]), \n",
    "            array([ 33.78200837,  17.69961172]), array([ 32.85792514,  17.29400994]), \n",
    "            array([ 31.9077709 ,  16.87488485]), array([ 30.93820991,  16.427559  ]), \n",
    "            array([ 29.9575867 ,  15.93574985]), array([ 28.97684733,  15.38199893]), \n",
    "            array([ 28.01061066,  14.7483652 ]), array([ 27.0731168 ,  14.02195945]), \n",
    "            array([ 26.17029693,  13.20472986]), array([ 25.31048581,  12.29806413]), \n",
    "            array([ 24.50235773,  11.30376016]), array([ 23.75430704,  10.22461825]), \n",
    "            array([ 23.0744117 ,   9.06431385]), array([ 22.47037023,   7.82731919]), \n",
    "            array([ 21.94942052,   6.51884205]), array([ 21.51826015,   5.14475968])]\n",
    "\n",
    "trajectory = Trajectory.create_from_vertices(position, 0)"
   ]
  },
  {
   "cell_type": "code",
   "execution_count": null,
   "metadata": {
    "collapsed": true
   },
   "outputs": [],
   "source": [
    "# check if goal region is reached\n",
    "reached, idx = planning_task.planning_problems[0].goal_reached(trajectory, scenario)\n",
    "\n",
    "print('Goal reached: ', reached)"
   ]
  },
  {
   "cell_type": "code",
   "execution_count": null,
   "metadata": {
    "collapsed": true
   },
   "outputs": [],
   "source": [
    "# add solution to planning problem\n",
    "planning_task.planning_problems[0].add_solution(trajectory, scenario.dt)\n",
    "print(planning_task.planning_problems[0].has_solution())\n",
    "\n",
    "# Is planning task fulfilled?\n",
    "valid = planning_task.is_solution_valid(scenario)\n",
    "print('Is planning task fulfilled?', valid)\n",
    "\n",
    "plt.figure(figsize=(25, 10))\n",
    "draw_object(scenario)\n",
    "draw_object(planning_task)\n",
    "draw_object(planning_task.planning_problems[0].car.create_collision_object())\n",
    "plt.gca().set_aspect('equal')\n",
    "plt.show()"
   ]
  },
  {
   "cell_type": "code",
   "execution_count": null,
   "metadata": {
    "collapsed": true
   },
   "outputs": [],
   "source": [
    "from fvks.planning.planning import CommonRoadSolutionFileWriter\n",
    "import os\n",
    "\n",
    "fw = CommonRoadSolutionFileWriter(scenario, planning_task)\n",
    "fw.write_to_file(os.getcwd() + '/automated-driving/tutorial/tutorial_rrt_solution.xml')"
   ]
  },
  {
   "cell_type": "code",
   "execution_count": null,
   "metadata": {
    "collapsed": true
   },
   "outputs": [],
   "source": []
  }
 ],
 "metadata": {
  "kernelspec": {
   "display_name": "Python 3",
   "language": "python",
   "name": "python3"
  },
  "language_info": {
   "codemirror_mode": {
    "name": "ipython",
    "version": 3
   },
   "file_extension": ".py",
   "mimetype": "text/x-python",
   "name": "python",
   "nbconvert_exporter": "python",
   "pygments_lexer": "ipython3",
   "version": "3.5.4"
  }
 },
 "nbformat": 4,
 "nbformat_minor": 1
}
