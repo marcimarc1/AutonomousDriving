{
 "cells": [
  {
   "cell_type": "code",
   "execution_count": null,
   "metadata": {
    "collapsed": true
   },
   "outputs": [],
   "source": [
    "# Open a CommonRoad scenario + planning task\n",
    "import os\n",
    "import matplotlib.pyplot as plt\n",
    "\n",
    "from fvks.visualization.draw_dispatch import draw_object\n",
    "from fvks.scenario.commonroad.file_reader import CommonRoadFileReader\n",
    "\n",
    "filename = os.getcwd() + '/automated-driving/tutorial/tutorial_rrt.xml'\n",
    "\n",
    "# ------------- Open the scenario and planning task using the CommonRoadFileReader -------------\n",
    "# scenario, planning_task = \n",
    "\n",
    "plt.figure(figsize=(25, 10))\n",
    "draw_object(scenario)\n",
    "draw_object(planning_task)\n",
    "plt.gca().set_aspect('equal')\n",
    "plt.show()"
   ]
  },
  {
   "cell_type": "code",
   "execution_count": null,
   "metadata": {},
   "outputs": [],
   "source": [
    "# Add another planning problem\n",
    "import pyfvks\n",
    "import numpy as np\n",
    "from fvks.planning.planning import PlanningProblem\n",
    "from fvks.scenario.trajectory import StateTupleFactory\n",
    "from fvks.scenario.commonroad.util import UncertainIntervalScalar\n",
    "\n",
    "# Create state tuple for the initial state according to CommonRoad\n",
    "initial_state_tuple = StateTupleFactory.create_state_tuple(StateTupleFactory.position,\n",
    "                                                           StateTupleFactory.orientation,\n",
    "                                                           StateTupleFactory.velocity,\n",
    "                                                           StateTupleFactory.yawRate,\n",
    "                                                           StateTupleFactory.slipAngle,\n",
    "                                                           StateTupleFactory.time)\n",
    "\n",
    "# ------------- Create the initial state of the new planning problem using the specified values  -------------\n",
    "\n",
    "\n",
    "# ------------- Create the state tuple for the goal states  -------------\n",
    "\n",
    "\n",
    "goal_state_list = list()\n",
    "# ------------- Create the define goal states -------------\n",
    "# goal_state_1 = \n",
    "goal_state_list.append(goal_state_1)\n",
    "# goal_state_2 = \n",
    "goal_state_list.append(goal_state_2)\n",
    "\n",
    "# ------------- Create the new planning problem -------------\n",
    "# new_planning_problem = \n",
    "\n",
    "\n",
    "# Add new planning problem to the planning task\n",
    "planning_task.add_planning_problem(new_planning_problem)\n",
    "\n",
    "# Plot the new scenario\n",
    "plt.figure(figsize=(25, 10))\n",
    "draw_object(scenario)\n",
    "draw_object(planning_task)\n",
    "plt.gca().set_aspect('equal')\n",
    "plt.show()"
   ]
  },
  {
   "cell_type": "code",
   "execution_count": null,
   "metadata": {},
   "outputs": [],
   "source": [
    "# Add a dynamic obstacle\n",
    "from fvks.scenario.trajectory import Trajectory\n",
    "from fvks.scenario.traffic import SimulatedCar\n",
    "\n",
    "position = np.array([[10, 50], [11, 50], [12, 50], [13, 50], [14, 50],\n",
    "                     [15, 50], [16, 50], [17, 50], [18, 50], [19, 50]])\n",
    "\n",
    "# ------------- Create trajectory from the position coordinates starting at time 0 -------------\n",
    "# trajectory = \n",
    "\n",
    "# ------------- Create a car with id 10, length 4.5, and width 2.0 which acts like a dynamic obstacle -------------\n",
    "# car = \n",
    "\n",
    "# Add the car to the scenario and set time of scenario\n",
    "scenario.add_objects(car)\n",
    "scenario.set_time(0)\n",
    "\n",
    "# Plot the new scenario\n",
    "plt.figure(figsize=(25, 10))\n",
    "draw_object(scenario)\n",
    "draw_object(planning_task)\n",
    "plt.gca().set_aspect('equal')\n",
    "plt.show()"
   ]
  },
  {
   "cell_type": "code",
   "execution_count": null,
   "metadata": {
    "collapsed": true
   },
   "outputs": [],
   "source": [
    "# Store the new scenario\n",
    "from fvks.scenario.commonroad.file_writer import CommonRoadFileWriter\n",
    "\n",
    "# ------------- Change benchmark ID from the scenario -------------\n",
    "# scenario.benchmark_id = \n",
    "\n",
    "# ------------- Store the scenario using the CommonRoadFileWriter -------------\n",
    "# fw = \n",
    "\n",
    "filename = '/automated-driving/tutorial/commonroad_tutorial_ws1718.xml'\n",
    "fw.write_to_file(os.getcwd() + filename)"
   ]
  }
 ],
 "metadata": {
  "kernelspec": {
   "display_name": "Python 3",
   "language": "python",
   "name": "python3"
  },
  "language_info": {
   "codemirror_mode": {
    "name": "ipython",
    "version": 3
   },
   "file_extension": ".py",
   "mimetype": "text/x-python",
   "name": "python",
   "nbconvert_exporter": "python",
   "pygments_lexer": "ipython3",
   "version": "3.5.4"
  }
 },
 "nbformat": 4,
 "nbformat_minor": 1
}
